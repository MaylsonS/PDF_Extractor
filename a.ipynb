{
 "cells": [
  {
   "cell_type": "code",
   "execution_count": null,
   "metadata": {},
   "outputs": [],
   "source": [
    "import sys\n",
    "print(sys.executable)\n"
   ]
  },
  {
   "cell_type": "code",
   "execution_count": null,
   "metadata": {},
   "outputs": [],
   "source": [
    "import camelot\n",
    "\n",
    "tabelas = camelot.read_pdf(\"relatorio.pdf\", pages= \"1\", flavor=\"stream\")\n",
    "\n",
    "print(\"Tabela Formatada\")\n",
    "if tabelas.n > 0:\n",
    "    df = tabelas[0].df\n",
    "\n",
    "    df.columns = df.iloc[8]\n",
    "    df = df[9::]\n",
    "\n",
    "    display(df)\n",
    "else:\n",
    "    print(\"Nenhuma tabela encontrada\")\n",
    "\n",
    "\n"
   ]
  },
  {
   "cell_type": "code",
   "execution_count": null,
   "metadata": {},
   "outputs": [],
   "source": [
    "# import camelot\n",
    "\n",
    "# tabelas = camelot.read_pdf(\"relatorio.pdf\", pages=\"1\", flavor=\"stream\")\n",
    "\n",
    "# if tabelas.n > 0:\n",
    "#     df = tabelas[0].df\n",
    "#     df.columns = df.iloc[8] \n",
    "#     df.drop(range(9), inplace=True)\n",
    "#     display(df)\n",
    "#     df_strip= df[\"Início\\nTérmino\\nGuia TISS\\nGuia\\nNr.Conta\\nAtendimento\"].str.split(\"\\n\",expand=True)\n",
    "#     if df_strip.shape[1] == 6:\n",
    "#         novas_colunas = [\"Inicio\", \"Termino\", \"Guia TSS\", \"Guia\", \"Nr.Conta\", \"Atendimento\", \"Origem\", \"Valor\"]\n",
    "#         for i, nome in (enumerate(novas_colunas)):\n",
    "#             df[nome] = df_strip[1]\n",
    "        \n",
    "#         df.drop(\"Início\\nTérmino\\nGuia TISS\\nGuia\\nNr.Conta\\nAtendimento\", axis=1, inplace=True)\n",
    "#         display(df)\n",
    "#     else:\n",
    "#         print(\"Os numeros de colunas n é compativel com o tamanho determinado\")\n",
    "\n",
    "# else:\n",
    "#     print(\"Não ha tabelas no doc\")"
   ]
  },
  {
   "cell_type": "code",
   "execution_count": 93,
   "metadata": {},
   "outputs": [
    {
     "name": "stdout",
     "output_type": "stream",
     "text": [
      "Aviso: A coluna 'Atendimento' foi preenchida com valores nulos porque o split_result não tem coluna 5.\n"
     ]
    },
    {
     "data": {
      "application/vnd.microsoft.datawrangler.viewer.v0+json": {
       "columns": [
        {
         "name": "index",
         "rawType": "int64",
         "type": "integer"
        },
        {
         "name": "",
         "rawType": "object",
         "type": "string"
        },
        {
         "name": "Origem",
         "rawType": "object",
         "type": "string"
        },
        {
         "name": "",
         "rawType": "object",
         "type": "string"
        },
        {
         "name": "Valor",
         "rawType": "object",
         "type": "string"
        },
        {
         "name": "Início",
         "rawType": "object",
         "type": "string"
        },
        {
         "name": "Término",
         "rawType": "object",
         "type": "unknown"
        },
        {
         "name": "Guia TISS",
         "rawType": "object",
         "type": "unknown"
        },
        {
         "name": "Guia",
         "rawType": "object",
         "type": "unknown"
        },
        {
         "name": "Nr.Conta",
         "rawType": "object",
         "type": "unknown"
        },
        {
         "name": "Atendimento",
         "rawType": "object",
         "type": "unknown"
        }
       ],
       "conversionMethod": "pd.DataFrame",
       "ref": "249afef6-27a9-45d1-9289-ea7756d0e994",
       "rows": [
        [
         "9",
         "REGINA CELY SILVA DE OLIVEIRA XAVI",
         "",
         "HMSF INTERNADOS",
         "1.857,57",
         "16/01/2025 16/01/2025",
         "1397",
         "1397",
         "235632",
         "234627",
         null
        ],
        [
         "10",
         "",
         "Total :\n1",
         "",
         "1.857,57",
         "",
         null,
         null,
         null,
         null,
         null
        ],
        [
         "11",
         "",
         "Total Geral :\n1",
         "",
         "1.857,57",
         "",
         null,
         null,
         null,
         null,
         null
        ],
        [
         "12",
         "CENTRO DE DIAG MEMORIAL MARIE CURIE",
         "",
         "",
         "",
         "",
         null,
         null,
         null,
         null,
         null
        ]
       ],
       "shape": {
        "columns": 10,
        "rows": 4
       }
      },
      "text/html": [
       "<div>\n",
       "<style scoped>\n",
       "    .dataframe tbody tr th:only-of-type {\n",
       "        vertical-align: middle;\n",
       "    }\n",
       "\n",
       "    .dataframe tbody tr th {\n",
       "        vertical-align: top;\n",
       "    }\n",
       "\n",
       "    .dataframe thead th {\n",
       "        text-align: right;\n",
       "    }\n",
       "</style>\n",
       "<table border=\"1\" class=\"dataframe\">\n",
       "  <thead>\n",
       "    <tr style=\"text-align: right;\">\n",
       "      <th>8</th>\n",
       "      <th></th>\n",
       "      <th>Origem</th>\n",
       "      <th></th>\n",
       "      <th>Valor</th>\n",
       "      <th>Início</th>\n",
       "      <th>Término</th>\n",
       "      <th>Guia TISS</th>\n",
       "      <th>Guia</th>\n",
       "      <th>Nr.Conta</th>\n",
       "      <th>Atendimento</th>\n",
       "    </tr>\n",
       "  </thead>\n",
       "  <tbody>\n",
       "    <tr>\n",
       "      <th>9</th>\n",
       "      <td>REGINA CELY SILVA DE OLIVEIRA XAVI</td>\n",
       "      <td></td>\n",
       "      <td>HMSF INTERNADOS</td>\n",
       "      <td>1.857,57</td>\n",
       "      <td>16/01/2025 16/01/2025</td>\n",
       "      <td>1397</td>\n",
       "      <td>1397</td>\n",
       "      <td>235632</td>\n",
       "      <td>234627</td>\n",
       "      <td>None</td>\n",
       "    </tr>\n",
       "    <tr>\n",
       "      <th>10</th>\n",
       "      <td></td>\n",
       "      <td>Total :\\n1</td>\n",
       "      <td></td>\n",
       "      <td>1.857,57</td>\n",
       "      <td></td>\n",
       "      <td>None</td>\n",
       "      <td>None</td>\n",
       "      <td>None</td>\n",
       "      <td>None</td>\n",
       "      <td>None</td>\n",
       "    </tr>\n",
       "    <tr>\n",
       "      <th>11</th>\n",
       "      <td></td>\n",
       "      <td>Total Geral :\\n1</td>\n",
       "      <td></td>\n",
       "      <td>1.857,57</td>\n",
       "      <td></td>\n",
       "      <td>None</td>\n",
       "      <td>None</td>\n",
       "      <td>None</td>\n",
       "      <td>None</td>\n",
       "      <td>None</td>\n",
       "    </tr>\n",
       "    <tr>\n",
       "      <th>12</th>\n",
       "      <td>CENTRO DE DIAG MEMORIAL MARIE CURIE</td>\n",
       "      <td></td>\n",
       "      <td></td>\n",
       "      <td></td>\n",
       "      <td></td>\n",
       "      <td>None</td>\n",
       "      <td>None</td>\n",
       "      <td>None</td>\n",
       "      <td>None</td>\n",
       "      <td>None</td>\n",
       "    </tr>\n",
       "  </tbody>\n",
       "</table>\n",
       "</div>"
      ],
      "text/plain": [
       "8                                                  Origem                   \\\n",
       "9    REGINA CELY SILVA DE OLIVEIRA XAVI                    HMSF INTERNADOS   \n",
       "10                                             Total :\\n1                    \n",
       "11                                       Total Geral :\\n1                    \n",
       "12  CENTRO DE DIAG MEMORIAL MARIE CURIE                                      \n",
       "\n",
       "8      Valor                 Início Término Guia TISS    Guia Nr.Conta  \\\n",
       "9   1.857,57  16/01/2025 16/01/2025    1397      1397  235632   234627   \n",
       "10  1.857,57                           None      None    None     None   \n",
       "11  1.857,57                           None      None    None     None   \n",
       "12                                     None      None    None     None   \n",
       "\n",
       "8  Atendimento  \n",
       "9         None  \n",
       "10        None  \n",
       "11        None  \n",
       "12        None  "
      ]
     },
     "metadata": {},
     "output_type": "display_data"
    }
   ],
   "source": [
    "import camelot\n",
    "\n",
    "# Ler o PDF\n",
    "tabelas = camelot.read_pdf(\"relatorio.pdf\", pages=\"1\", flavor=\"stream\")\n",
    "\n",
    "if tabelas.n > 0:\n",
    "    df = tabelas[0].df\n",
    "\n",
    "    # Definir os cabeçalhos corretos\n",
    "    df.columns = df.iloc[8]  # Supondo que a linha 8 contém os cabeçalhos\n",
    "    df.drop(range(9), inplace=True)  # Remove as primeiras 9 linhas\n",
    "\n",
    "    # Dividir a coluna em novas colunas\n",
    "    split_result = df[\"Início\\nTérmino\\nGuia TISS\\nGuia\\nNr.Conta\\nAtendimento\"].str.split(\"\\n\", expand=True)\n",
    "\n",
    "    # Verificar quantas colunas foram geradas\n",
    "    num_colunas = split_result.shape[1]\n",
    "    novas_colunas = [\"Início\", \"Término\", \"Guia TISS\", \"Guia\", \"Nr.Conta\", \"Atendimento\"]\n",
    "\n",
    "    # Adicionar apenas as colunas que existem no split_result\n",
    "    for i in range(len(novas_colunas)):\n",
    "        if i < num_colunas:  # Verifica se a coluna existe no split_result\n",
    "            df[novas_colunas[i]] = split_result[i]\n",
    "        else:\n",
    "            # Se a coluna não existir, preencha com um valor padrão (ex: None)\n",
    "            df[novas_colunas[i]] = None\n",
    "            print(f\"Aviso: A coluna '{novas_colunas[i]}' foi preenchida com valores nulos porque o split_result não tem coluna {i}.\")\n",
    "\n",
    "    # Remover a coluna original (opcional)\n",
    "    df.drop(\"Início\\nTérmino\\nGuia TISS\\nGuia\\nNr.Conta\\nAtendimento\", axis=1, inplace=True)\n",
    "\n",
    "    display(df)\n",
    "else:\n",
    "    print(\"Nenhuma tabela encontrada\")"
   ]
  },
  {
   "cell_type": "code",
   "execution_count": 94,
   "metadata": {},
   "outputs": [
    {
     "data": {
      "application/vnd.microsoft.datawrangler.viewer.v0+json": {
       "columns": [
        {
         "name": "index",
         "rawType": "int64",
         "type": "integer"
        },
        {
         "name": "Início\nTérmino\nGuia TISS\nGuia\nNr.Conta\nAtendimento",
         "rawType": "object",
         "type": "string"
        },
        {
         "name": "",
         "rawType": "object",
         "type": "string"
        },
        {
         "name": "Origem",
         "rawType": "object",
         "type": "string"
        },
        {
         "name": "",
         "rawType": "object",
         "type": "string"
        },
        {
         "name": "Valor",
         "rawType": "object",
         "type": "string"
        },
        {
         "name": "Início",
         "rawType": "object",
         "type": "string"
        }
       ],
       "conversionMethod": "pd.DataFrame",
       "ref": "c66f299c-f535-4dba-801b-050c36ea1d27",
       "rows": [
        [
         "9",
         "16/01/2025 16/01/2025\n1397\n1397\n235632\n234627",
         "REGINA CELY SILVA DE OLIVEIRA XAVI",
         "",
         "HMSF INTERNADOS",
         "1.857,57",
         "16/01/2025 16/01/2025"
        ],
        [
         "10",
         "",
         "",
         "Total :\n1",
         "",
         "1.857,57",
         ""
        ],
        [
         "11",
         "",
         "",
         "Total Geral :\n1",
         "",
         "1.857,57",
         ""
        ],
        [
         "12",
         "",
         "CENTRO DE DIAG MEMORIAL MARIE CURIE",
         "",
         "",
         "",
         ""
        ]
       ],
       "shape": {
        "columns": 6,
        "rows": 4
       }
      },
      "text/html": [
       "<div>\n",
       "<style scoped>\n",
       "    .dataframe tbody tr th:only-of-type {\n",
       "        vertical-align: middle;\n",
       "    }\n",
       "\n",
       "    .dataframe tbody tr th {\n",
       "        vertical-align: top;\n",
       "    }\n",
       "\n",
       "    .dataframe thead th {\n",
       "        text-align: right;\n",
       "    }\n",
       "</style>\n",
       "<table border=\"1\" class=\"dataframe\">\n",
       "  <thead>\n",
       "    <tr style=\"text-align: right;\">\n",
       "      <th>8</th>\n",
       "      <th>Início\\nTérmino\\nGuia TISS\\nGuia\\nNr.Conta\\nAtendimento</th>\n",
       "      <th></th>\n",
       "      <th>Origem</th>\n",
       "      <th></th>\n",
       "      <th>Valor</th>\n",
       "      <th>Início</th>\n",
       "    </tr>\n",
       "  </thead>\n",
       "  <tbody>\n",
       "    <tr>\n",
       "      <th>9</th>\n",
       "      <td>16/01/2025 16/01/2025\\n1397\\n1397\\n235632\\n234627</td>\n",
       "      <td>REGINA CELY SILVA DE OLIVEIRA XAVI</td>\n",
       "      <td></td>\n",
       "      <td>HMSF INTERNADOS</td>\n",
       "      <td>1.857,57</td>\n",
       "      <td>16/01/2025 16/01/2025</td>\n",
       "    </tr>\n",
       "    <tr>\n",
       "      <th>10</th>\n",
       "      <td></td>\n",
       "      <td></td>\n",
       "      <td>Total :\\n1</td>\n",
       "      <td></td>\n",
       "      <td>1.857,57</td>\n",
       "      <td></td>\n",
       "    </tr>\n",
       "    <tr>\n",
       "      <th>11</th>\n",
       "      <td></td>\n",
       "      <td></td>\n",
       "      <td>Total Geral :\\n1</td>\n",
       "      <td></td>\n",
       "      <td>1.857,57</td>\n",
       "      <td></td>\n",
       "    </tr>\n",
       "    <tr>\n",
       "      <th>12</th>\n",
       "      <td></td>\n",
       "      <td>CENTRO DE DIAG MEMORIAL MARIE CURIE</td>\n",
       "      <td></td>\n",
       "      <td></td>\n",
       "      <td></td>\n",
       "      <td></td>\n",
       "    </tr>\n",
       "  </tbody>\n",
       "</table>\n",
       "</div>"
      ],
      "text/plain": [
       "8  Início\\nTérmino\\nGuia TISS\\nGuia\\nNr.Conta\\nAtendimento  \\\n",
       "9   16/01/2025 16/01/2025\\n1397\\n1397\\n235632\\n234627        \n",
       "10                                                           \n",
       "11                                                           \n",
       "12                                                           \n",
       "\n",
       "8                                                  Origem                   \\\n",
       "9    REGINA CELY SILVA DE OLIVEIRA XAVI                    HMSF INTERNADOS   \n",
       "10                                             Total :\\n1                    \n",
       "11                                       Total Geral :\\n1                    \n",
       "12  CENTRO DE DIAG MEMORIAL MARIE CURIE                                      \n",
       "\n",
       "8      Valor                 Início  \n",
       "9   1.857,57  16/01/2025 16/01/2025  \n",
       "10  1.857,57                         \n",
       "11  1.857,57                         \n",
       "12                                   "
      ]
     },
     "metadata": {},
     "output_type": "display_data"
    },
    {
     "data": {
      "application/vnd.microsoft.datawrangler.viewer.v0+json": {
       "columns": [
        {
         "name": "index",
         "rawType": "int64",
         "type": "integer"
        },
        {
         "name": "Início\nTérmino\nGuia TISS\nGuia\nNr.Conta\nAtendimento",
         "rawType": "object",
         "type": "string"
        },
        {
         "name": "",
         "rawType": "object",
         "type": "string"
        },
        {
         "name": "Origem",
         "rawType": "object",
         "type": "string"
        },
        {
         "name": "",
         "rawType": "object",
         "type": "string"
        },
        {
         "name": "Valor",
         "rawType": "object",
         "type": "string"
        },
        {
         "name": "Início",
         "rawType": "object",
         "type": "string"
        },
        {
         "name": "Término",
         "rawType": "object",
         "type": "unknown"
        }
       ],
       "conversionMethod": "pd.DataFrame",
       "ref": "b712ea45-821c-4762-8df2-46ffde0a9a81",
       "rows": [
        [
         "9",
         "16/01/2025 16/01/2025\n1397\n1397\n235632\n234627",
         "REGINA CELY SILVA DE OLIVEIRA XAVI",
         "",
         "HMSF INTERNADOS",
         "1.857,57",
         "16/01/2025 16/01/2025",
         "1397"
        ],
        [
         "10",
         "",
         "",
         "Total :\n1",
         "",
         "1.857,57",
         "",
         null
        ],
        [
         "11",
         "",
         "",
         "Total Geral :\n1",
         "",
         "1.857,57",
         "",
         null
        ],
        [
         "12",
         "",
         "CENTRO DE DIAG MEMORIAL MARIE CURIE",
         "",
         "",
         "",
         "",
         null
        ]
       ],
       "shape": {
        "columns": 7,
        "rows": 4
       }
      },
      "text/html": [
       "<div>\n",
       "<style scoped>\n",
       "    .dataframe tbody tr th:only-of-type {\n",
       "        vertical-align: middle;\n",
       "    }\n",
       "\n",
       "    .dataframe tbody tr th {\n",
       "        vertical-align: top;\n",
       "    }\n",
       "\n",
       "    .dataframe thead th {\n",
       "        text-align: right;\n",
       "    }\n",
       "</style>\n",
       "<table border=\"1\" class=\"dataframe\">\n",
       "  <thead>\n",
       "    <tr style=\"text-align: right;\">\n",
       "      <th>8</th>\n",
       "      <th>Início\\nTérmino\\nGuia TISS\\nGuia\\nNr.Conta\\nAtendimento</th>\n",
       "      <th></th>\n",
       "      <th>Origem</th>\n",
       "      <th></th>\n",
       "      <th>Valor</th>\n",
       "      <th>Início</th>\n",
       "      <th>Término</th>\n",
       "    </tr>\n",
       "  </thead>\n",
       "  <tbody>\n",
       "    <tr>\n",
       "      <th>9</th>\n",
       "      <td>16/01/2025 16/01/2025\\n1397\\n1397\\n235632\\n234627</td>\n",
       "      <td>REGINA CELY SILVA DE OLIVEIRA XAVI</td>\n",
       "      <td></td>\n",
       "      <td>HMSF INTERNADOS</td>\n",
       "      <td>1.857,57</td>\n",
       "      <td>16/01/2025 16/01/2025</td>\n",
       "      <td>1397</td>\n",
       "    </tr>\n",
       "    <tr>\n",
       "      <th>10</th>\n",
       "      <td></td>\n",
       "      <td></td>\n",
       "      <td>Total :\\n1</td>\n",
       "      <td></td>\n",
       "      <td>1.857,57</td>\n",
       "      <td></td>\n",
       "      <td>None</td>\n",
       "    </tr>\n",
       "    <tr>\n",
       "      <th>11</th>\n",
       "      <td></td>\n",
       "      <td></td>\n",
       "      <td>Total Geral :\\n1</td>\n",
       "      <td></td>\n",
       "      <td>1.857,57</td>\n",
       "      <td></td>\n",
       "      <td>None</td>\n",
       "    </tr>\n",
       "    <tr>\n",
       "      <th>12</th>\n",
       "      <td></td>\n",
       "      <td>CENTRO DE DIAG MEMORIAL MARIE CURIE</td>\n",
       "      <td></td>\n",
       "      <td></td>\n",
       "      <td></td>\n",
       "      <td></td>\n",
       "      <td>None</td>\n",
       "    </tr>\n",
       "  </tbody>\n",
       "</table>\n",
       "</div>"
      ],
      "text/plain": [
       "8  Início\\nTérmino\\nGuia TISS\\nGuia\\nNr.Conta\\nAtendimento  \\\n",
       "9   16/01/2025 16/01/2025\\n1397\\n1397\\n235632\\n234627        \n",
       "10                                                           \n",
       "11                                                           \n",
       "12                                                           \n",
       "\n",
       "8                                                  Origem                   \\\n",
       "9    REGINA CELY SILVA DE OLIVEIRA XAVI                    HMSF INTERNADOS   \n",
       "10                                             Total :\\n1                    \n",
       "11                                       Total Geral :\\n1                    \n",
       "12  CENTRO DE DIAG MEMORIAL MARIE CURIE                                      \n",
       "\n",
       "8      Valor                 Início Término  \n",
       "9   1.857,57  16/01/2025 16/01/2025    1397  \n",
       "10  1.857,57                           None  \n",
       "11  1.857,57                           None  \n",
       "12                                     None  "
      ]
     },
     "metadata": {},
     "output_type": "display_data"
    },
    {
     "data": {
      "application/vnd.microsoft.datawrangler.viewer.v0+json": {
       "columns": [
        {
         "name": "index",
         "rawType": "int64",
         "type": "integer"
        },
        {
         "name": "Início\nTérmino\nGuia TISS\nGuia\nNr.Conta\nAtendimento",
         "rawType": "object",
         "type": "string"
        },
        {
         "name": "",
         "rawType": "object",
         "type": "string"
        },
        {
         "name": "Origem",
         "rawType": "object",
         "type": "string"
        },
        {
         "name": "",
         "rawType": "object",
         "type": "string"
        },
        {
         "name": "Valor",
         "rawType": "object",
         "type": "string"
        },
        {
         "name": "Início",
         "rawType": "object",
         "type": "string"
        },
        {
         "name": "Término",
         "rawType": "object",
         "type": "unknown"
        },
        {
         "name": "Guia TISS",
         "rawType": "object",
         "type": "unknown"
        }
       ],
       "conversionMethod": "pd.DataFrame",
       "ref": "0bd558ac-71ea-43d2-b110-d33d4b2b189b",
       "rows": [
        [
         "9",
         "16/01/2025 16/01/2025\n1397\n1397\n235632\n234627",
         "REGINA CELY SILVA DE OLIVEIRA XAVI",
         "",
         "HMSF INTERNADOS",
         "1.857,57",
         "16/01/2025 16/01/2025",
         "1397",
         "1397"
        ],
        [
         "10",
         "",
         "",
         "Total :\n1",
         "",
         "1.857,57",
         "",
         null,
         null
        ],
        [
         "11",
         "",
         "",
         "Total Geral :\n1",
         "",
         "1.857,57",
         "",
         null,
         null
        ],
        [
         "12",
         "",
         "CENTRO DE DIAG MEMORIAL MARIE CURIE",
         "",
         "",
         "",
         "",
         null,
         null
        ]
       ],
       "shape": {
        "columns": 8,
        "rows": 4
       }
      },
      "text/html": [
       "<div>\n",
       "<style scoped>\n",
       "    .dataframe tbody tr th:only-of-type {\n",
       "        vertical-align: middle;\n",
       "    }\n",
       "\n",
       "    .dataframe tbody tr th {\n",
       "        vertical-align: top;\n",
       "    }\n",
       "\n",
       "    .dataframe thead th {\n",
       "        text-align: right;\n",
       "    }\n",
       "</style>\n",
       "<table border=\"1\" class=\"dataframe\">\n",
       "  <thead>\n",
       "    <tr style=\"text-align: right;\">\n",
       "      <th>8</th>\n",
       "      <th>Início\\nTérmino\\nGuia TISS\\nGuia\\nNr.Conta\\nAtendimento</th>\n",
       "      <th></th>\n",
       "      <th>Origem</th>\n",
       "      <th></th>\n",
       "      <th>Valor</th>\n",
       "      <th>Início</th>\n",
       "      <th>Término</th>\n",
       "      <th>Guia TISS</th>\n",
       "    </tr>\n",
       "  </thead>\n",
       "  <tbody>\n",
       "    <tr>\n",
       "      <th>9</th>\n",
       "      <td>16/01/2025 16/01/2025\\n1397\\n1397\\n235632\\n234627</td>\n",
       "      <td>REGINA CELY SILVA DE OLIVEIRA XAVI</td>\n",
       "      <td></td>\n",
       "      <td>HMSF INTERNADOS</td>\n",
       "      <td>1.857,57</td>\n",
       "      <td>16/01/2025 16/01/2025</td>\n",
       "      <td>1397</td>\n",
       "      <td>1397</td>\n",
       "    </tr>\n",
       "    <tr>\n",
       "      <th>10</th>\n",
       "      <td></td>\n",
       "      <td></td>\n",
       "      <td>Total :\\n1</td>\n",
       "      <td></td>\n",
       "      <td>1.857,57</td>\n",
       "      <td></td>\n",
       "      <td>None</td>\n",
       "      <td>None</td>\n",
       "    </tr>\n",
       "    <tr>\n",
       "      <th>11</th>\n",
       "      <td></td>\n",
       "      <td></td>\n",
       "      <td>Total Geral :\\n1</td>\n",
       "      <td></td>\n",
       "      <td>1.857,57</td>\n",
       "      <td></td>\n",
       "      <td>None</td>\n",
       "      <td>None</td>\n",
       "    </tr>\n",
       "    <tr>\n",
       "      <th>12</th>\n",
       "      <td></td>\n",
       "      <td>CENTRO DE DIAG MEMORIAL MARIE CURIE</td>\n",
       "      <td></td>\n",
       "      <td></td>\n",
       "      <td></td>\n",
       "      <td></td>\n",
       "      <td>None</td>\n",
       "      <td>None</td>\n",
       "    </tr>\n",
       "  </tbody>\n",
       "</table>\n",
       "</div>"
      ],
      "text/plain": [
       "8  Início\\nTérmino\\nGuia TISS\\nGuia\\nNr.Conta\\nAtendimento  \\\n",
       "9   16/01/2025 16/01/2025\\n1397\\n1397\\n235632\\n234627        \n",
       "10                                                           \n",
       "11                                                           \n",
       "12                                                           \n",
       "\n",
       "8                                                  Origem                   \\\n",
       "9    REGINA CELY SILVA DE OLIVEIRA XAVI                    HMSF INTERNADOS   \n",
       "10                                             Total :\\n1                    \n",
       "11                                       Total Geral :\\n1                    \n",
       "12  CENTRO DE DIAG MEMORIAL MARIE CURIE                                      \n",
       "\n",
       "8      Valor                 Início Término Guia TISS  \n",
       "9   1.857,57  16/01/2025 16/01/2025    1397      1397  \n",
       "10  1.857,57                           None      None  \n",
       "11  1.857,57                           None      None  \n",
       "12                                     None      None  "
      ]
     },
     "metadata": {},
     "output_type": "display_data"
    },
    {
     "data": {
      "application/vnd.microsoft.datawrangler.viewer.v0+json": {
       "columns": [
        {
         "name": "index",
         "rawType": "int64",
         "type": "integer"
        },
        {
         "name": "Início\nTérmino\nGuia TISS\nGuia\nNr.Conta\nAtendimento",
         "rawType": "object",
         "type": "string"
        },
        {
         "name": "",
         "rawType": "object",
         "type": "string"
        },
        {
         "name": "Origem",
         "rawType": "object",
         "type": "string"
        },
        {
         "name": "",
         "rawType": "object",
         "type": "string"
        },
        {
         "name": "Valor",
         "rawType": "object",
         "type": "string"
        },
        {
         "name": "Início",
         "rawType": "object",
         "type": "string"
        },
        {
         "name": "Término",
         "rawType": "object",
         "type": "unknown"
        },
        {
         "name": "Guia TISS",
         "rawType": "object",
         "type": "unknown"
        },
        {
         "name": "Guia",
         "rawType": "object",
         "type": "unknown"
        }
       ],
       "conversionMethod": "pd.DataFrame",
       "ref": "d9235c30-c5f7-423c-b6f3-229fdccb68e7",
       "rows": [
        [
         "9",
         "16/01/2025 16/01/2025\n1397\n1397\n235632\n234627",
         "REGINA CELY SILVA DE OLIVEIRA XAVI",
         "",
         "HMSF INTERNADOS",
         "1.857,57",
         "16/01/2025 16/01/2025",
         "1397",
         "1397",
         "235632"
        ],
        [
         "10",
         "",
         "",
         "Total :\n1",
         "",
         "1.857,57",
         "",
         null,
         null,
         null
        ],
        [
         "11",
         "",
         "",
         "Total Geral :\n1",
         "",
         "1.857,57",
         "",
         null,
         null,
         null
        ],
        [
         "12",
         "",
         "CENTRO DE DIAG MEMORIAL MARIE CURIE",
         "",
         "",
         "",
         "",
         null,
         null,
         null
        ]
       ],
       "shape": {
        "columns": 9,
        "rows": 4
       }
      },
      "text/html": [
       "<div>\n",
       "<style scoped>\n",
       "    .dataframe tbody tr th:only-of-type {\n",
       "        vertical-align: middle;\n",
       "    }\n",
       "\n",
       "    .dataframe tbody tr th {\n",
       "        vertical-align: top;\n",
       "    }\n",
       "\n",
       "    .dataframe thead th {\n",
       "        text-align: right;\n",
       "    }\n",
       "</style>\n",
       "<table border=\"1\" class=\"dataframe\">\n",
       "  <thead>\n",
       "    <tr style=\"text-align: right;\">\n",
       "      <th>8</th>\n",
       "      <th>Início\\nTérmino\\nGuia TISS\\nGuia\\nNr.Conta\\nAtendimento</th>\n",
       "      <th></th>\n",
       "      <th>Origem</th>\n",
       "      <th></th>\n",
       "      <th>Valor</th>\n",
       "      <th>Início</th>\n",
       "      <th>Término</th>\n",
       "      <th>Guia TISS</th>\n",
       "      <th>Guia</th>\n",
       "    </tr>\n",
       "  </thead>\n",
       "  <tbody>\n",
       "    <tr>\n",
       "      <th>9</th>\n",
       "      <td>16/01/2025 16/01/2025\\n1397\\n1397\\n235632\\n234627</td>\n",
       "      <td>REGINA CELY SILVA DE OLIVEIRA XAVI</td>\n",
       "      <td></td>\n",
       "      <td>HMSF INTERNADOS</td>\n",
       "      <td>1.857,57</td>\n",
       "      <td>16/01/2025 16/01/2025</td>\n",
       "      <td>1397</td>\n",
       "      <td>1397</td>\n",
       "      <td>235632</td>\n",
       "    </tr>\n",
       "    <tr>\n",
       "      <th>10</th>\n",
       "      <td></td>\n",
       "      <td></td>\n",
       "      <td>Total :\\n1</td>\n",
       "      <td></td>\n",
       "      <td>1.857,57</td>\n",
       "      <td></td>\n",
       "      <td>None</td>\n",
       "      <td>None</td>\n",
       "      <td>None</td>\n",
       "    </tr>\n",
       "    <tr>\n",
       "      <th>11</th>\n",
       "      <td></td>\n",
       "      <td></td>\n",
       "      <td>Total Geral :\\n1</td>\n",
       "      <td></td>\n",
       "      <td>1.857,57</td>\n",
       "      <td></td>\n",
       "      <td>None</td>\n",
       "      <td>None</td>\n",
       "      <td>None</td>\n",
       "    </tr>\n",
       "    <tr>\n",
       "      <th>12</th>\n",
       "      <td></td>\n",
       "      <td>CENTRO DE DIAG MEMORIAL MARIE CURIE</td>\n",
       "      <td></td>\n",
       "      <td></td>\n",
       "      <td></td>\n",
       "      <td></td>\n",
       "      <td>None</td>\n",
       "      <td>None</td>\n",
       "      <td>None</td>\n",
       "    </tr>\n",
       "  </tbody>\n",
       "</table>\n",
       "</div>"
      ],
      "text/plain": [
       "8  Início\\nTérmino\\nGuia TISS\\nGuia\\nNr.Conta\\nAtendimento  \\\n",
       "9   16/01/2025 16/01/2025\\n1397\\n1397\\n235632\\n234627        \n",
       "10                                                           \n",
       "11                                                           \n",
       "12                                                           \n",
       "\n",
       "8                                                  Origem                   \\\n",
       "9    REGINA CELY SILVA DE OLIVEIRA XAVI                    HMSF INTERNADOS   \n",
       "10                                             Total :\\n1                    \n",
       "11                                       Total Geral :\\n1                    \n",
       "12  CENTRO DE DIAG MEMORIAL MARIE CURIE                                      \n",
       "\n",
       "8      Valor                 Início Término Guia TISS    Guia  \n",
       "9   1.857,57  16/01/2025 16/01/2025    1397      1397  235632  \n",
       "10  1.857,57                           None      None    None  \n",
       "11  1.857,57                           None      None    None  \n",
       "12                                     None      None    None  "
      ]
     },
     "metadata": {},
     "output_type": "display_data"
    },
    {
     "data": {
      "application/vnd.microsoft.datawrangler.viewer.v0+json": {
       "columns": [
        {
         "name": "index",
         "rawType": "int64",
         "type": "integer"
        },
        {
         "name": "Início\nTérmino\nGuia TISS\nGuia\nNr.Conta\nAtendimento",
         "rawType": "object",
         "type": "string"
        },
        {
         "name": "",
         "rawType": "object",
         "type": "string"
        },
        {
         "name": "Origem",
         "rawType": "object",
         "type": "string"
        },
        {
         "name": "",
         "rawType": "object",
         "type": "string"
        },
        {
         "name": "Valor",
         "rawType": "object",
         "type": "string"
        },
        {
         "name": "Início",
         "rawType": "object",
         "type": "string"
        },
        {
         "name": "Término",
         "rawType": "object",
         "type": "unknown"
        },
        {
         "name": "Guia TISS",
         "rawType": "object",
         "type": "unknown"
        },
        {
         "name": "Guia",
         "rawType": "object",
         "type": "unknown"
        },
        {
         "name": "Nr.Conta",
         "rawType": "object",
         "type": "unknown"
        }
       ],
       "conversionMethod": "pd.DataFrame",
       "ref": "0e18598c-8b50-48e4-a5b3-213d372ea670",
       "rows": [
        [
         "9",
         "16/01/2025 16/01/2025\n1397\n1397\n235632\n234627",
         "REGINA CELY SILVA DE OLIVEIRA XAVI",
         "",
         "HMSF INTERNADOS",
         "1.857,57",
         "16/01/2025 16/01/2025",
         "1397",
         "1397",
         "235632",
         "234627"
        ],
        [
         "10",
         "",
         "",
         "Total :\n1",
         "",
         "1.857,57",
         "",
         null,
         null,
         null,
         null
        ],
        [
         "11",
         "",
         "",
         "Total Geral :\n1",
         "",
         "1.857,57",
         "",
         null,
         null,
         null,
         null
        ],
        [
         "12",
         "",
         "CENTRO DE DIAG MEMORIAL MARIE CURIE",
         "",
         "",
         "",
         "",
         null,
         null,
         null,
         null
        ]
       ],
       "shape": {
        "columns": 10,
        "rows": 4
       }
      },
      "text/html": [
       "<div>\n",
       "<style scoped>\n",
       "    .dataframe tbody tr th:only-of-type {\n",
       "        vertical-align: middle;\n",
       "    }\n",
       "\n",
       "    .dataframe tbody tr th {\n",
       "        vertical-align: top;\n",
       "    }\n",
       "\n",
       "    .dataframe thead th {\n",
       "        text-align: right;\n",
       "    }\n",
       "</style>\n",
       "<table border=\"1\" class=\"dataframe\">\n",
       "  <thead>\n",
       "    <tr style=\"text-align: right;\">\n",
       "      <th>8</th>\n",
       "      <th>Início\\nTérmino\\nGuia TISS\\nGuia\\nNr.Conta\\nAtendimento</th>\n",
       "      <th></th>\n",
       "      <th>Origem</th>\n",
       "      <th></th>\n",
       "      <th>Valor</th>\n",
       "      <th>Início</th>\n",
       "      <th>Término</th>\n",
       "      <th>Guia TISS</th>\n",
       "      <th>Guia</th>\n",
       "      <th>Nr.Conta</th>\n",
       "    </tr>\n",
       "  </thead>\n",
       "  <tbody>\n",
       "    <tr>\n",
       "      <th>9</th>\n",
       "      <td>16/01/2025 16/01/2025\\n1397\\n1397\\n235632\\n234627</td>\n",
       "      <td>REGINA CELY SILVA DE OLIVEIRA XAVI</td>\n",
       "      <td></td>\n",
       "      <td>HMSF INTERNADOS</td>\n",
       "      <td>1.857,57</td>\n",
       "      <td>16/01/2025 16/01/2025</td>\n",
       "      <td>1397</td>\n",
       "      <td>1397</td>\n",
       "      <td>235632</td>\n",
       "      <td>234627</td>\n",
       "    </tr>\n",
       "    <tr>\n",
       "      <th>10</th>\n",
       "      <td></td>\n",
       "      <td></td>\n",
       "      <td>Total :\\n1</td>\n",
       "      <td></td>\n",
       "      <td>1.857,57</td>\n",
       "      <td></td>\n",
       "      <td>None</td>\n",
       "      <td>None</td>\n",
       "      <td>None</td>\n",
       "      <td>None</td>\n",
       "    </tr>\n",
       "    <tr>\n",
       "      <th>11</th>\n",
       "      <td></td>\n",
       "      <td></td>\n",
       "      <td>Total Geral :\\n1</td>\n",
       "      <td></td>\n",
       "      <td>1.857,57</td>\n",
       "      <td></td>\n",
       "      <td>None</td>\n",
       "      <td>None</td>\n",
       "      <td>None</td>\n",
       "      <td>None</td>\n",
       "    </tr>\n",
       "    <tr>\n",
       "      <th>12</th>\n",
       "      <td></td>\n",
       "      <td>CENTRO DE DIAG MEMORIAL MARIE CURIE</td>\n",
       "      <td></td>\n",
       "      <td></td>\n",
       "      <td></td>\n",
       "      <td></td>\n",
       "      <td>None</td>\n",
       "      <td>None</td>\n",
       "      <td>None</td>\n",
       "      <td>None</td>\n",
       "    </tr>\n",
       "  </tbody>\n",
       "</table>\n",
       "</div>"
      ],
      "text/plain": [
       "8  Início\\nTérmino\\nGuia TISS\\nGuia\\nNr.Conta\\nAtendimento  \\\n",
       "9   16/01/2025 16/01/2025\\n1397\\n1397\\n235632\\n234627        \n",
       "10                                                           \n",
       "11                                                           \n",
       "12                                                           \n",
       "\n",
       "8                                                  Origem                   \\\n",
       "9    REGINA CELY SILVA DE OLIVEIRA XAVI                    HMSF INTERNADOS   \n",
       "10                                             Total :\\n1                    \n",
       "11                                       Total Geral :\\n1                    \n",
       "12  CENTRO DE DIAG MEMORIAL MARIE CURIE                                      \n",
       "\n",
       "8      Valor                 Início Término Guia TISS    Guia Nr.Conta  \n",
       "9   1.857,57  16/01/2025 16/01/2025    1397      1397  235632   234627  \n",
       "10  1.857,57                           None      None    None     None  \n",
       "11  1.857,57                           None      None    None     None  \n",
       "12                                     None      None    None     None  "
      ]
     },
     "metadata": {},
     "output_type": "display_data"
    },
    {
     "ename": "ValueError",
     "evalue": "Length of values (1) does not match length of index (4)",
     "output_type": "error",
     "traceback": [
      "\u001b[1;31m---------------------------------------------------------------------------\u001b[0m",
      "\u001b[1;31mValueError\u001b[0m                                Traceback (most recent call last)",
      "File \u001b[1;32mc:\\Users\\maylson.rodrigues\\Documents\\GitHub\\leitor_PDF\\.venv\\Lib\\site-packages\\pandas\\core\\indexes\\range.py:413\u001b[0m, in \u001b[0;36mRangeIndex.get_loc\u001b[1;34m(self, key)\u001b[0m\n\u001b[0;32m    412\u001b[0m \u001b[38;5;28;01mtry\u001b[39;00m:\n\u001b[1;32m--> 413\u001b[0m     \u001b[38;5;28;01mreturn\u001b[39;00m \u001b[38;5;28;43mself\u001b[39;49m\u001b[38;5;241;43m.\u001b[39;49m\u001b[43m_range\u001b[49m\u001b[38;5;241;43m.\u001b[39;49m\u001b[43mindex\u001b[49m\u001b[43m(\u001b[49m\u001b[43mnew_key\u001b[49m\u001b[43m)\u001b[49m\n\u001b[0;32m    414\u001b[0m \u001b[38;5;28;01mexcept\u001b[39;00m \u001b[38;5;167;01mValueError\u001b[39;00m \u001b[38;5;28;01mas\u001b[39;00m err:\n",
      "\u001b[1;31mValueError\u001b[0m: 5 is not in range",
      "\nThe above exception was the direct cause of the following exception:\n",
      "\u001b[1;31mKeyError\u001b[0m                                  Traceback (most recent call last)",
      "Cell \u001b[1;32mIn[94], line 19\u001b[0m\n\u001b[0;32m     18\u001b[0m \u001b[38;5;28;01mif\u001b[39;00m i \u001b[38;5;241m<\u001b[39m \u001b[38;5;28mlen\u001b[39m(novas_colunas):\n\u001b[1;32m---> 19\u001b[0m     df[novas_colunas[i]] \u001b[38;5;241m=\u001b[39m \u001b[43msplit_result\u001b[49m\u001b[43m[\u001b[49m\u001b[43mi\u001b[49m\u001b[43m]\u001b[49m\n\u001b[0;32m     20\u001b[0m \u001b[38;5;28;01melse\u001b[39;00m:\n",
      "File \u001b[1;32mc:\\Users\\maylson.rodrigues\\Documents\\GitHub\\leitor_PDF\\.venv\\Lib\\site-packages\\pandas\\core\\frame.py:4102\u001b[0m, in \u001b[0;36mDataFrame.__getitem__\u001b[1;34m(self, key)\u001b[0m\n\u001b[0;32m   4101\u001b[0m     \u001b[38;5;28;01mreturn\u001b[39;00m \u001b[38;5;28mself\u001b[39m\u001b[38;5;241m.\u001b[39m_getitem_multilevel(key)\n\u001b[1;32m-> 4102\u001b[0m indexer \u001b[38;5;241m=\u001b[39m \u001b[38;5;28;43mself\u001b[39;49m\u001b[38;5;241;43m.\u001b[39;49m\u001b[43mcolumns\u001b[49m\u001b[38;5;241;43m.\u001b[39;49m\u001b[43mget_loc\u001b[49m\u001b[43m(\u001b[49m\u001b[43mkey\u001b[49m\u001b[43m)\u001b[49m\n\u001b[0;32m   4103\u001b[0m \u001b[38;5;28;01mif\u001b[39;00m is_integer(indexer):\n",
      "File \u001b[1;32mc:\\Users\\maylson.rodrigues\\Documents\\GitHub\\leitor_PDF\\.venv\\Lib\\site-packages\\pandas\\core\\indexes\\range.py:415\u001b[0m, in \u001b[0;36mRangeIndex.get_loc\u001b[1;34m(self, key)\u001b[0m\n\u001b[0;32m    414\u001b[0m     \u001b[38;5;28;01mexcept\u001b[39;00m \u001b[38;5;167;01mValueError\u001b[39;00m \u001b[38;5;28;01mas\u001b[39;00m err:\n\u001b[1;32m--> 415\u001b[0m         \u001b[38;5;28;01mraise\u001b[39;00m \u001b[38;5;167;01mKeyError\u001b[39;00m(key) \u001b[38;5;28;01mfrom\u001b[39;00m\u001b[38;5;250m \u001b[39m\u001b[38;5;21;01merr\u001b[39;00m\n\u001b[0;32m    416\u001b[0m \u001b[38;5;28;01mif\u001b[39;00m \u001b[38;5;28misinstance\u001b[39m(key, Hashable):\n",
      "\u001b[1;31mKeyError\u001b[0m: 5",
      "\nDuring handling of the above exception, another exception occurred:\n",
      "\u001b[1;31mValueError\u001b[0m                                Traceback (most recent call last)",
      "Cell \u001b[1;32mIn[94], line 23\u001b[0m\n\u001b[0;32m     21\u001b[0m      \u001b[38;5;28mprint\u001b[39m(\u001b[38;5;124mf\u001b[39m\u001b[38;5;124m\"\u001b[39m\u001b[38;5;124mAviso: A coluna \u001b[39m\u001b[38;5;124m'\u001b[39m\u001b[38;5;132;01m{\u001b[39;00mnovas_colunas[i]\u001b[38;5;132;01m}\u001b[39;00m\u001b[38;5;124m'\u001b[39m\u001b[38;5;124m não foi criada porque o split_result não tem coluna \u001b[39m\u001b[38;5;132;01m{\u001b[39;00mi\u001b[38;5;132;01m}\u001b[39;00m\u001b[38;5;124m.\u001b[39m\u001b[38;5;124m\"\u001b[39m)\n\u001b[0;32m     22\u001b[0m \u001b[38;5;28;01mexcept\u001b[39;00m \u001b[38;5;167;01mException\u001b[39;00m \u001b[38;5;28;01mas\u001b[39;00m erro:\n\u001b[1;32m---> 23\u001b[0m     \u001b[43mdf\u001b[49m\u001b[43m[\u001b[49m\u001b[43mnovas_colunas\u001b[49m\u001b[43m[\u001b[49m\u001b[43mi\u001b[49m\u001b[43m]\u001b[49m\u001b[43m]\u001b[49m \u001b[38;5;241m=\u001b[39m [\u001b[38;5;124m\"\u001b[39m\u001b[38;5;124mAtendimento\u001b[39m\u001b[38;5;124m\"\u001b[39m] \n\u001b[0;32m     25\u001b[0m \u001b[38;5;66;03m# df.drop(\"Início\\nTérmino\\nGuia TISS\\nGuia\\nNr.Conta\\nAtendimento\", axis=0, inplace=True)\u001b[39;00m\n\u001b[0;32m     27\u001b[0m display(df)\n",
      "File \u001b[1;32mc:\\Users\\maylson.rodrigues\\Documents\\GitHub\\leitor_PDF\\.venv\\Lib\\site-packages\\pandas\\core\\frame.py:4311\u001b[0m, in \u001b[0;36mDataFrame.__setitem__\u001b[1;34m(self, key, value)\u001b[0m\n\u001b[0;32m   4308\u001b[0m     \u001b[38;5;28mself\u001b[39m\u001b[38;5;241m.\u001b[39m_setitem_array([key], value)\n\u001b[0;32m   4309\u001b[0m \u001b[38;5;28;01melse\u001b[39;00m:\n\u001b[0;32m   4310\u001b[0m     \u001b[38;5;66;03m# set column\u001b[39;00m\n\u001b[1;32m-> 4311\u001b[0m     \u001b[38;5;28;43mself\u001b[39;49m\u001b[38;5;241;43m.\u001b[39;49m\u001b[43m_set_item\u001b[49m\u001b[43m(\u001b[49m\u001b[43mkey\u001b[49m\u001b[43m,\u001b[49m\u001b[43m \u001b[49m\u001b[43mvalue\u001b[49m\u001b[43m)\u001b[49m\n",
      "File \u001b[1;32mc:\\Users\\maylson.rodrigues\\Documents\\GitHub\\leitor_PDF\\.venv\\Lib\\site-packages\\pandas\\core\\frame.py:4524\u001b[0m, in \u001b[0;36mDataFrame._set_item\u001b[1;34m(self, key, value)\u001b[0m\n\u001b[0;32m   4514\u001b[0m \u001b[38;5;28;01mdef\u001b[39;00m\u001b[38;5;250m \u001b[39m\u001b[38;5;21m_set_item\u001b[39m(\u001b[38;5;28mself\u001b[39m, key, value) \u001b[38;5;241m-\u001b[39m\u001b[38;5;241m>\u001b[39m \u001b[38;5;28;01mNone\u001b[39;00m:\n\u001b[0;32m   4515\u001b[0m \u001b[38;5;250m    \u001b[39m\u001b[38;5;124;03m\"\"\"\u001b[39;00m\n\u001b[0;32m   4516\u001b[0m \u001b[38;5;124;03m    Add series to DataFrame in specified column.\u001b[39;00m\n\u001b[0;32m   4517\u001b[0m \n\u001b[1;32m   (...)\u001b[0m\n\u001b[0;32m   4522\u001b[0m \u001b[38;5;124;03m    ensure homogeneity.\u001b[39;00m\n\u001b[0;32m   4523\u001b[0m \u001b[38;5;124;03m    \"\"\"\u001b[39;00m\n\u001b[1;32m-> 4524\u001b[0m     value, refs \u001b[38;5;241m=\u001b[39m \u001b[38;5;28;43mself\u001b[39;49m\u001b[38;5;241;43m.\u001b[39;49m\u001b[43m_sanitize_column\u001b[49m\u001b[43m(\u001b[49m\u001b[43mvalue\u001b[49m\u001b[43m)\u001b[49m\n\u001b[0;32m   4526\u001b[0m     \u001b[38;5;28;01mif\u001b[39;00m (\n\u001b[0;32m   4527\u001b[0m         key \u001b[38;5;129;01min\u001b[39;00m \u001b[38;5;28mself\u001b[39m\u001b[38;5;241m.\u001b[39mcolumns\n\u001b[0;32m   4528\u001b[0m         \u001b[38;5;129;01mand\u001b[39;00m value\u001b[38;5;241m.\u001b[39mndim \u001b[38;5;241m==\u001b[39m \u001b[38;5;241m1\u001b[39m\n\u001b[0;32m   4529\u001b[0m         \u001b[38;5;129;01mand\u001b[39;00m \u001b[38;5;129;01mnot\u001b[39;00m \u001b[38;5;28misinstance\u001b[39m(value\u001b[38;5;241m.\u001b[39mdtype, ExtensionDtype)\n\u001b[0;32m   4530\u001b[0m     ):\n\u001b[0;32m   4531\u001b[0m         \u001b[38;5;66;03m# broadcast across multiple columns if necessary\u001b[39;00m\n\u001b[0;32m   4532\u001b[0m         \u001b[38;5;28;01mif\u001b[39;00m \u001b[38;5;129;01mnot\u001b[39;00m \u001b[38;5;28mself\u001b[39m\u001b[38;5;241m.\u001b[39mcolumns\u001b[38;5;241m.\u001b[39mis_unique \u001b[38;5;129;01mor\u001b[39;00m \u001b[38;5;28misinstance\u001b[39m(\u001b[38;5;28mself\u001b[39m\u001b[38;5;241m.\u001b[39mcolumns, MultiIndex):\n",
      "File \u001b[1;32mc:\\Users\\maylson.rodrigues\\Documents\\GitHub\\leitor_PDF\\.venv\\Lib\\site-packages\\pandas\\core\\frame.py:5266\u001b[0m, in \u001b[0;36mDataFrame._sanitize_column\u001b[1;34m(self, value)\u001b[0m\n\u001b[0;32m   5263\u001b[0m     \u001b[38;5;28;01mreturn\u001b[39;00m _reindex_for_setitem(value, \u001b[38;5;28mself\u001b[39m\u001b[38;5;241m.\u001b[39mindex)\n\u001b[0;32m   5265\u001b[0m \u001b[38;5;28;01mif\u001b[39;00m is_list_like(value):\n\u001b[1;32m-> 5266\u001b[0m     \u001b[43mcom\u001b[49m\u001b[38;5;241;43m.\u001b[39;49m\u001b[43mrequire_length_match\u001b[49m\u001b[43m(\u001b[49m\u001b[43mvalue\u001b[49m\u001b[43m,\u001b[49m\u001b[43m \u001b[49m\u001b[38;5;28;43mself\u001b[39;49m\u001b[38;5;241;43m.\u001b[39;49m\u001b[43mindex\u001b[49m\u001b[43m)\u001b[49m\n\u001b[0;32m   5267\u001b[0m arr \u001b[38;5;241m=\u001b[39m sanitize_array(value, \u001b[38;5;28mself\u001b[39m\u001b[38;5;241m.\u001b[39mindex, copy\u001b[38;5;241m=\u001b[39m\u001b[38;5;28;01mTrue\u001b[39;00m, allow_2d\u001b[38;5;241m=\u001b[39m\u001b[38;5;28;01mTrue\u001b[39;00m)\n\u001b[0;32m   5268\u001b[0m \u001b[38;5;28;01mif\u001b[39;00m (\n\u001b[0;32m   5269\u001b[0m     \u001b[38;5;28misinstance\u001b[39m(value, Index)\n\u001b[0;32m   5270\u001b[0m     \u001b[38;5;129;01mand\u001b[39;00m value\u001b[38;5;241m.\u001b[39mdtype \u001b[38;5;241m==\u001b[39m \u001b[38;5;124m\"\u001b[39m\u001b[38;5;124mobject\u001b[39m\u001b[38;5;124m\"\u001b[39m\n\u001b[1;32m   (...)\u001b[0m\n\u001b[0;32m   5273\u001b[0m     \u001b[38;5;66;03m# TODO: Remove kludge in sanitize_array for string mode when enforcing\u001b[39;00m\n\u001b[0;32m   5274\u001b[0m     \u001b[38;5;66;03m# this deprecation\u001b[39;00m\n",
      "File \u001b[1;32mc:\\Users\\maylson.rodrigues\\Documents\\GitHub\\leitor_PDF\\.venv\\Lib\\site-packages\\pandas\\core\\common.py:573\u001b[0m, in \u001b[0;36mrequire_length_match\u001b[1;34m(data, index)\u001b[0m\n\u001b[0;32m    569\u001b[0m \u001b[38;5;250m\u001b[39m\u001b[38;5;124;03m\"\"\"\u001b[39;00m\n\u001b[0;32m    570\u001b[0m \u001b[38;5;124;03mCheck the length of data matches the length of the index.\u001b[39;00m\n\u001b[0;32m    571\u001b[0m \u001b[38;5;124;03m\"\"\"\u001b[39;00m\n\u001b[0;32m    572\u001b[0m \u001b[38;5;28;01mif\u001b[39;00m \u001b[38;5;28mlen\u001b[39m(data) \u001b[38;5;241m!=\u001b[39m \u001b[38;5;28mlen\u001b[39m(index):\n\u001b[1;32m--> 573\u001b[0m     \u001b[38;5;28;01mraise\u001b[39;00m \u001b[38;5;167;01mValueError\u001b[39;00m(\n\u001b[0;32m    574\u001b[0m         \u001b[38;5;124m\"\u001b[39m\u001b[38;5;124mLength of values \u001b[39m\u001b[38;5;124m\"\u001b[39m\n\u001b[0;32m    575\u001b[0m         \u001b[38;5;124mf\u001b[39m\u001b[38;5;124m\"\u001b[39m\u001b[38;5;124m(\u001b[39m\u001b[38;5;132;01m{\u001b[39;00m\u001b[38;5;28mlen\u001b[39m(data)\u001b[38;5;132;01m}\u001b[39;00m\u001b[38;5;124m) \u001b[39m\u001b[38;5;124m\"\u001b[39m\n\u001b[0;32m    576\u001b[0m         \u001b[38;5;124m\"\u001b[39m\u001b[38;5;124mdoes not match length of index \u001b[39m\u001b[38;5;124m\"\u001b[39m\n\u001b[0;32m    577\u001b[0m         \u001b[38;5;124mf\u001b[39m\u001b[38;5;124m\"\u001b[39m\u001b[38;5;124m(\u001b[39m\u001b[38;5;132;01m{\u001b[39;00m\u001b[38;5;28mlen\u001b[39m(index)\u001b[38;5;132;01m}\u001b[39;00m\u001b[38;5;124m)\u001b[39m\u001b[38;5;124m\"\u001b[39m\n\u001b[0;32m    578\u001b[0m     )\n",
      "\u001b[1;31mValueError\u001b[0m: Length of values (1) does not match length of index (4)"
     ]
    }
   ],
   "source": [
    "import camelot\n",
    "tabelas = camelot.read_pdf(\"relatorio.pdf\", pages=\"1\", flavor=\"stream\")\n",
    "\n",
    "if tabelas.n > 0:\n",
    "    df = tabelas[0].df\n",
    "\n",
    "    # Definir os cabeçalhos corretos\n",
    "    df.columns = df.iloc[8]  # Supondo que a linha 8 contém os cabeçalhos\n",
    "    df.drop(range(9), inplace=True)  # Remove as primeiras 9 linhas\n",
    "\n",
    "    # Dividir a coluna em novas colunas\n",
    "    split_result = df[\"Início\\nTérmino\\nGuia TISS\\nGuia\\nNr.Conta\\nAtendimento\"].str.split(\"\\n\", expand=True)\n",
    "    num_colunas = split_result.shape[1]\n",
    "    novas_colunas = [\"Início\", \"Término\", \"Guia TISS\", \"Guia\", \"Nr.Conta\", \"Atendimento\"]\n",
    "\n",
    "    for i in range(len(novas_colunas)):\n",
    "        try:\n",
    "            if i < len(novas_colunas):\n",
    "                df[novas_colunas[i]] = split_result[i]\n",
    "            else:\n",
    "             print(f\"Aviso: A coluna '{novas_colunas[i]}' não foi criada porque o split_result não tem coluna {i}.\")\n",
    "        except Exception as erro:\n",
    "            df[novas_colunas[i]] = [\"Atendimento\"] \n",
    "        \n",
    "        # df.drop(\"Início\\nTérmino\\nGuia TISS\\nGuia\\nNr.Conta\\nAtendimento\", axis=0, inplace=True)\n",
    "        \n",
    "        display(df)\n",
    "    else:\n",
    "        print(f\"Erro: A coluna foi dividida em {split_result.shape[1]} partes, mas esperava-se 6.\")\n",
    "else:\n",
    "    print(\"Nenhuma tabela encontrada\")"
   ]
  },
  {
   "cell_type": "code",
   "execution_count": null,
   "metadata": {},
   "outputs": [],
   "source": []
  }
 ],
 "metadata": {
  "kernelspec": {
   "display_name": ".venv",
   "language": "python",
   "name": "python3"
  },
  "language_info": {
   "codemirror_mode": {
    "name": "ipython",
    "version": 3
   },
   "file_extension": ".py",
   "mimetype": "text/x-python",
   "name": "python",
   "nbconvert_exporter": "python",
   "pygments_lexer": "ipython3",
   "version": "3.11.9"
  }
 },
 "nbformat": 4,
 "nbformat_minor": 2
}
