{
 "cells": [
  {
   "cell_type": "code",
   "execution_count": null,
   "metadata": {},
   "outputs": [],
   "source": [
    "import sys\n",
    "print(sys.executable)\n"
   ]
  },
  {
   "cell_type": "code",
   "execution_count": null,
   "metadata": {},
   "outputs": [],
   "source": []
  },
  {
   "cell_type": "code",
   "execution_count": null,
   "metadata": {},
   "outputs": [],
   "source": [
    "import camelot\n",
    "import pandas as pd\n",
    "# Ler o PDF\n",
    "tabelas = camelot.read_pdf(\"relatorio.pdf\", pages=\"1\", flavor=\"stream\")\n",
    "\n",
    "if tabelas.n > 0:\n",
    "    df = tabelas[0].df\n",
    "\n",
    "\n",
    "    df.columns = df.iloc[8]  \n",
    "    df.drop(range(9), inplace=True)  \n",
    "\n",
    "    # Dividir a coluna em novas colunas\n",
    "    split_result = df[\"Início\\nTérmino\\nGuia TISS\\nGuia\\nNr.Conta\\nAtendimento\"].str.split(\"\\n\", expand=True)\n",
    "\n",
    "    num_colunas = split_result.shape[1]\n",
    "    novas_colunas = [\"Início\", \"Término\", \"Guia TISS\", \"Guia\", \"Nr.Conta\", \"Atendimento\"]\n",
    "\n",
    "    \n",
    "    for i in range(len(novas_colunas)):\n",
    "        if i < num_colunas:  \n",
    "            df[novas_colunas[i]] = split_result[i]\n",
    "        else:\n",
    "           \n",
    "            df[novas_colunas[i]] = split_result[i-1]\n",
    "            print(f\"Aviso: A coluna '{novas_colunas[i]}' foi preenchida com valores nulos porque o split_result não tem coluna {i}.\")\n",
    "\n",
    "    # Remover a coluna original (opcional)\n",
    "    df.drop(\"Início\\nTérmino\\nGuia TISS\\nGuia\\nNr.Conta\\nAtendimento\", axis=1, inplace=True)\n",
    "\n",
    "    display(df)\n",
    "else:\n",
    "    print(\"Nenhuma tabela encontrada\")\n",
    "\n",
    "\n",
    "tabela2 = pd.DataFrame({\n",
    "        \"Atendimento\": df[\"Atendimento\"],  # Mapeia a coluna Atendimento\n",
    "        \"Guia\": df[\"Guia\"],  # Mapeia a coluna Guia\n",
    "        \"Origem\": df[\"\"] ,  # Preenche com um valor padrão\n",
    "        \"Valor\": df[\"Valor\"]  # Preenche com um valor padrão\n",
    "    })                     \n",
    "display(tabela2)\n"
   ]
  },
  {
   "cell_type": "code",
   "execution_count": null,
   "metadata": {},
   "outputs": [],
   "source": [
    "import camelot\n",
    "import pandas as pd\n",
    "# Ler o PDF\n",
    "tabelas = camelot.read_pdf(\"relatorio.pdf\", pages=\"1\", flavor=\"stream\")\n",
    "\n",
    "if tabelas.n > 0:\n",
    "    df = tabelas[0].df\n",
    "\n",
    "\n",
    "    df.columns = df.iloc[8]  \n",
    "    df.drop(range(9), inplace=True)  \n",
    "\n",
    "    # Dividir a coluna em novas colunas\n",
    "    display(df)\n",
    "\n",
    "    df_strip = df[\"Início\\nTérmino\\nGuia TISS\\nGuia\\nNr.Conta\\nAtendimento\"].str.split(\"\\n\", expand=True)\n",
    "    a = [\"INICIO\",\"TERMINO\",\"GUIA TISS\", \"Nr.Conta\", \"ATENDIMENTO\"]\n",
    "    for x in range(len(a)):\n",
    "          tabela2[novas_colunas[x]] = split_result[x]\n",
    "\n",
    "    tabela2[[\"INICIO\",\"TERMINO\"]] = tabela2[\"Início\"].str.split(\" \", expand=True)\n",
    "    tabela2.drop(\"Início\", axis=1, inplace=True)\n",
    "\n",
    "    display(tabela2)\n",
    "\n",
    "   \n",
    "\n",
    "\n",
    "\n",
    "\n",
    "\n"
   ]
  },
  {
   "cell_type": "code",
   "execution_count": null,
   "metadata": {},
   "outputs": [
    {
     "data": {
      "application/vnd.microsoft.datawrangler.viewer.v0+json": {
       "columns": [
        {
         "name": "index",
         "rawType": "int64",
         "type": "integer"
        },
        {
         "name": "Início\nTérmino\nGuia TISS\nGuia\nNr.Conta\nAtendimento",
         "rawType": "object",
         "type": "string"
        },
        {
         "name": "",
         "rawType": "object",
         "type": "string"
        },
        {
         "name": "Origem",
         "rawType": "object",
         "type": "string"
        },
        {
         "name": "",
         "rawType": "object",
         "type": "string"
        },
        {
         "name": "Valor",
         "rawType": "object",
         "type": "string"
        }
       ],
       "conversionMethod": "pd.DataFrame",
       "ref": "cdec0939-bfea-4f51-8c18-a5b5eb9f58d7",
       "rows": [
        [
         "9",
         "16/01/2025 16/01/2025\n1397\n1397\n235632\n234627",
         "REGINA CELY SILVA DE OLIVEIRA XAVI",
         "",
         "HMSF INTERNADOS",
         "1.857,57"
        ],
        [
         "10",
         "",
         "",
         "Total :\n1",
         "",
         "1.857,57"
        ],
        [
         "11",
         "",
         "",
         "Total Geral :\n1",
         "",
         "1.857,57"
        ],
        [
         "12",
         "",
         "CENTRO DE DIAG MEMORIAL MARIE CURIE",
         "",
         "",
         ""
        ]
       ],
       "shape": {
        "columns": 5,
        "rows": 4
       }
      },
      "text/html": [
       "<div>\n",
       "<style scoped>\n",
       "    .dataframe tbody tr th:only-of-type {\n",
       "        vertical-align: middle;\n",
       "    }\n",
       "\n",
       "    .dataframe tbody tr th {\n",
       "        vertical-align: top;\n",
       "    }\n",
       "\n",
       "    .dataframe thead th {\n",
       "        text-align: right;\n",
       "    }\n",
       "</style>\n",
       "<table border=\"1\" class=\"dataframe\">\n",
       "  <thead>\n",
       "    <tr style=\"text-align: right;\">\n",
       "      <th>8</th>\n",
       "      <th>Início\\nTérmino\\nGuia TISS\\nGuia\\nNr.Conta\\nAtendimento</th>\n",
       "      <th></th>\n",
       "      <th>Origem</th>\n",
       "      <th></th>\n",
       "      <th>Valor</th>\n",
       "    </tr>\n",
       "  </thead>\n",
       "  <tbody>\n",
       "    <tr>\n",
       "      <th>9</th>\n",
       "      <td>16/01/2025 16/01/2025\\n1397\\n1397\\n235632\\n234627</td>\n",
       "      <td>REGINA CELY SILVA DE OLIVEIRA XAVI</td>\n",
       "      <td></td>\n",
       "      <td>HMSF INTERNADOS</td>\n",
       "      <td>1.857,57</td>\n",
       "    </tr>\n",
       "    <tr>\n",
       "      <th>10</th>\n",
       "      <td></td>\n",
       "      <td></td>\n",
       "      <td>Total :\\n1</td>\n",
       "      <td></td>\n",
       "      <td>1.857,57</td>\n",
       "    </tr>\n",
       "    <tr>\n",
       "      <th>11</th>\n",
       "      <td></td>\n",
       "      <td></td>\n",
       "      <td>Total Geral :\\n1</td>\n",
       "      <td></td>\n",
       "      <td>1.857,57</td>\n",
       "    </tr>\n",
       "    <tr>\n",
       "      <th>12</th>\n",
       "      <td></td>\n",
       "      <td>CENTRO DE DIAG MEMORIAL MARIE CURIE</td>\n",
       "      <td></td>\n",
       "      <td></td>\n",
       "      <td></td>\n",
       "    </tr>\n",
       "  </tbody>\n",
       "</table>\n",
       "</div>"
      ],
      "text/plain": [
       "8  Início\\nTérmino\\nGuia TISS\\nGuia\\nNr.Conta\\nAtendimento  \\\n",
       "9   16/01/2025 16/01/2025\\n1397\\n1397\\n235632\\n234627        \n",
       "10                                                           \n",
       "11                                                           \n",
       "12                                                           \n",
       "\n",
       "8                                                  Origem                   \\\n",
       "9    REGINA CELY SILVA DE OLIVEIRA XAVI                    HMSF INTERNADOS   \n",
       "10                                             Total :\\n1                    \n",
       "11                                       Total Geral :\\n1                    \n",
       "12  CENTRO DE DIAG MEMORIAL MARIE CURIE                                      \n",
       "\n",
       "8      Valor  \n",
       "9   1.857,57  \n",
       "10  1.857,57  \n",
       "11  1.857,57  \n",
       "12            "
      ]
     },
     "metadata": {},
     "output_type": "display_data"
    },
    {
     "data": {
      "application/vnd.microsoft.datawrangler.viewer.v0+json": {
       "columns": [
        {
         "name": "index",
         "rawType": "int64",
         "type": "integer"
        },
        {
         "name": "Atendimento",
         "rawType": "object",
         "type": "unknown"
        },
        {
         "name": "Guia",
         "rawType": "object",
         "type": "unknown"
        },
        {
         "name": "Valor",
         "rawType": "object",
         "type": "string"
        },
        {
         "name": "Guia TISS",
         "rawType": "object",
         "type": "unknown"
        },
        {
         "name": "Nr.Conta",
         "rawType": "object",
         "type": "unknown"
        },
        {
         "name": "(0, 1)",
         "rawType": "object",
         "type": "unknown"
        },
        {
         "name": "0",
         "rawType": "object",
         "type": "string"
        },
        {
         "name": "1",
         "rawType": "object",
         "type": "unknown"
        },
        {
         "name": "INICIO",
         "rawType": "object",
         "type": "string"
        },
        {
         "name": "TERMINO",
         "rawType": "object",
         "type": "unknown"
        },
        {
         "name": "Nome",
         "rawType": "object",
         "type": "string"
        },
        {
         "name": "Origem",
         "rawType": "object",
         "type": "string"
        }
       ],
       "conversionMethod": "pd.DataFrame",
       "ref": "529cb576-25e9-48d4-8f97-4fe9905eabf2",
       "rows": [
        [
         "9",
         "234627",
         "235632",
         "1.857,57",
         "1397",
         "234627",
         "['', '1', '6', '/', '0', '1', '/', '2', '0', '2', '5', ' ', '1', '6', '/', '0', '1', '/', '2', '0', '2', '5', '']",
         "16/01/2025",
         "16/01/2025",
         "16/01/2025",
         "16/01/2025",
         "REGINA CELY SILVA DE OLIVEIRA XAVI",
         "HMSF INTERNADOS"
        ],
        [
         "10",
         null,
         null,
         "1.857,57",
         null,
         null,
         "['', '']",
         "",
         null,
         "",
         null,
         "",
         ""
        ],
        [
         "11",
         null,
         null,
         "1.857,57",
         null,
         null,
         "['', '']",
         "",
         null,
         "",
         null,
         "",
         ""
        ],
        [
         "12",
         null,
         null,
         "",
         null,
         null,
         "['', '']",
         "",
         null,
         "",
         null,
         "CENTRO DE DIAG MEMORIAL MARIE CURIE",
         ""
        ]
       ],
       "shape": {
        "columns": 12,
        "rows": 4
       }
      },
      "text/html": [
       "<div>\n",
       "<style scoped>\n",
       "    .dataframe tbody tr th:only-of-type {\n",
       "        vertical-align: middle;\n",
       "    }\n",
       "\n",
       "    .dataframe tbody tr th {\n",
       "        vertical-align: top;\n",
       "    }\n",
       "\n",
       "    .dataframe thead th {\n",
       "        text-align: right;\n",
       "    }\n",
       "</style>\n",
       "<table border=\"1\" class=\"dataframe\">\n",
       "  <thead>\n",
       "    <tr style=\"text-align: right;\">\n",
       "      <th></th>\n",
       "      <th>Atendimento</th>\n",
       "      <th>Guia</th>\n",
       "      <th>Valor</th>\n",
       "      <th>Guia TISS</th>\n",
       "      <th>Nr.Conta</th>\n",
       "      <th>(0, 1)</th>\n",
       "      <th>0</th>\n",
       "      <th>1</th>\n",
       "      <th>INICIO</th>\n",
       "      <th>TERMINO</th>\n",
       "      <th>Nome</th>\n",
       "      <th>Origem</th>\n",
       "    </tr>\n",
       "  </thead>\n",
       "  <tbody>\n",
       "    <tr>\n",
       "      <th>9</th>\n",
       "      <td>234627</td>\n",
       "      <td>235632</td>\n",
       "      <td>1.857,57</td>\n",
       "      <td>1397</td>\n",
       "      <td>234627</td>\n",
       "      <td>[, 1, 6, /, 0, 1, /, 2, 0, 2, 5,  , 1, 6, /, 0...</td>\n",
       "      <td>16/01/2025</td>\n",
       "      <td>16/01/2025</td>\n",
       "      <td>16/01/2025</td>\n",
       "      <td>16/01/2025</td>\n",
       "      <td>REGINA CELY SILVA DE OLIVEIRA XAVI</td>\n",
       "      <td>HMSF INTERNADOS</td>\n",
       "    </tr>\n",
       "    <tr>\n",
       "      <th>10</th>\n",
       "      <td>None</td>\n",
       "      <td>None</td>\n",
       "      <td>1.857,57</td>\n",
       "      <td>None</td>\n",
       "      <td>None</td>\n",
       "      <td>[, ]</td>\n",
       "      <td></td>\n",
       "      <td>None</td>\n",
       "      <td></td>\n",
       "      <td>None</td>\n",
       "      <td></td>\n",
       "      <td></td>\n",
       "    </tr>\n",
       "    <tr>\n",
       "      <th>11</th>\n",
       "      <td>None</td>\n",
       "      <td>None</td>\n",
       "      <td>1.857,57</td>\n",
       "      <td>None</td>\n",
       "      <td>None</td>\n",
       "      <td>[, ]</td>\n",
       "      <td></td>\n",
       "      <td>None</td>\n",
       "      <td></td>\n",
       "      <td>None</td>\n",
       "      <td></td>\n",
       "      <td></td>\n",
       "    </tr>\n",
       "    <tr>\n",
       "      <th>12</th>\n",
       "      <td>None</td>\n",
       "      <td>None</td>\n",
       "      <td></td>\n",
       "      <td>None</td>\n",
       "      <td>None</td>\n",
       "      <td>[, ]</td>\n",
       "      <td></td>\n",
       "      <td>None</td>\n",
       "      <td></td>\n",
       "      <td>None</td>\n",
       "      <td>CENTRO DE DIAG MEMORIAL MARIE CURIE</td>\n",
       "      <td></td>\n",
       "    </tr>\n",
       "  </tbody>\n",
       "</table>\n",
       "</div>"
      ],
      "text/plain": [
       "   Atendimento    Guia     Valor Guia TISS Nr.Conta  \\\n",
       "9       234627  235632  1.857,57      1397   234627   \n",
       "10        None    None  1.857,57      None     None   \n",
       "11        None    None  1.857,57      None     None   \n",
       "12        None    None                None     None   \n",
       "\n",
       "                                               (0, 1)           0           1  \\\n",
       "9   [, 1, 6, /, 0, 1, /, 2, 0, 2, 5,  , 1, 6, /, 0...  16/01/2025  16/01/2025   \n",
       "10                                               [, ]                    None   \n",
       "11                                               [, ]                    None   \n",
       "12                                               [, ]                    None   \n",
       "\n",
       "        INICIO     TERMINO                                 Nome  \\\n",
       "9   16/01/2025  16/01/2025   REGINA CELY SILVA DE OLIVEIRA XAVI   \n",
       "10                    None                                        \n",
       "11                    None                                        \n",
       "12                    None  CENTRO DE DIAG MEMORIAL MARIE CURIE   \n",
       "\n",
       "             Origem  \n",
       "9   HMSF INTERNADOS  \n",
       "10                   \n",
       "11                   \n",
       "12                   "
      ]
     },
     "metadata": {},
     "output_type": "display_data"
    },
    {
     "name": "stdout",
     "output_type": "stream",
     "text": [
      "0{\"name\":\"KeyError\",\"message\":\"'cdec0939-bfea-4f51-8c18-a5b5eb9f58d7'\",\"stack\":\"Traceback \\u001b[1;36m(most recent call last)\\u001b[0m:\\n\\u001b[0m  File \\u001b[0;32m<string>:156\\u001b[0m in \\u001b[0;35m__DW_DEBUG_WRAPPER__\\u001b[0m\\n\\u001b[1;36m  File \\u001b[1;32m<string>:145\\u001b[1;36m in \\u001b[1;35m__DW_GET_EXPRESSION_VARIABLE__\\u001b[1;36m\\n\\u001b[1;31mKeyError\\u001b[0m\\u001b[1;31m:\\u001b[0m 'cdec0939-bfea-4f51-8c18-a5b5eb9f58d7'\\n\"}\n",
      "0{\"name\":\"KeyError\",\"message\":\"'529cb576-25e9-48d4-8f97-4fe9905eabf2'\",\"stack\":\"Traceback \\u001b[1;36m(most recent call last)\\u001b[0m:\\n\\u001b[0m  File \\u001b[0;32m<string>:156\\u001b[0m in \\u001b[0;35m__DW_DEBUG_WRAPPER__\\u001b[0m\\n\\u001b[1;36m  File \\u001b[1;32m<string>:145\\u001b[1;36m in \\u001b[1;35m__DW_GET_EXPRESSION_VARIABLE__\\u001b[1;36m\\n\\u001b[1;31mKeyError\\u001b[0m\\u001b[1;31m:\\u001b[0m '529cb576-25e9-48d4-8f97-4fe9905eabf2'\\n\"}\n"
     ]
    }
   ],
   "source": [
    "import camelot\n",
    "import pandas as pd\n",
    "# Ler o PDF\n",
    "tabelas = camelot.read_pdf(\"relatorio.pdf\", pages=\"1\", flavor=\"stream\")\n",
    "\n",
    "if tabelas.n > 0:\n",
    "    df = tabelas[0].df\n",
    "\n",
    "\n",
    "    df.columns = df.iloc[8]  \n",
    "    df.drop(range(9), inplace=True)  \n",
    "\n",
    "    # Dividir a coluna em novas colunas\n",
    "    display(df)\n",
    "\n",
    "    df_strip = df[\"Início\\nTérmino\\nGuia TISS\\nGuia\\nNr.Conta\\nAtendimento\"].str.split(\"\\n\", expand=True)\n",
    "    a = [\"INICIO\",\"TERMINO\",\"GUIA TISS\", \"Nr.Conta\", \"ATENDIMENTO\"]\n",
    "    for x in range(len(a)):\n",
    "          tabela2[novas_colunas[x]] = split_result[x]\n",
    "\n",
    "    tabela2[[\"INICIO\",\"TERMINO\"]] = tabela2[\"Início\"].str.split(\" \", expand=True)\n",
    "    tabela2.drop(\"Início\", axis=1, inplace=True)\n",
    "    tabela2.drop(\"Término\", axis=1, inplace=True)\n",
    "  \n",
    "\n",
    "    tabela2[\"Nome\"] = df.iloc[:,1]\n",
    "    tabela2[\"Origem\"] = df.iloc[:,3]\n",
    "\n",
    "    display(tabela2)"
   ]
  }
 ],
 "metadata": {
  "kernelspec": {
   "display_name": ".venv",
   "language": "python",
   "name": "python3"
  },
  "language_info": {
   "codemirror_mode": {
    "name": "ipython",
    "version": 3
   },
   "file_extension": ".py",
   "mimetype": "text/x-python",
   "name": "python",
   "nbconvert_exporter": "python",
   "pygments_lexer": "ipython3",
   "version": "3.11.9"
  }
 },
 "nbformat": 4,
 "nbformat_minor": 2
}
